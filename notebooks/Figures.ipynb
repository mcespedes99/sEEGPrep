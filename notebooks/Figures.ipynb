{
 "cells": [
  {
   "cell_type": "code",
   "execution_count": 1,
   "id": "4b90236d-8fa2-4edd-8804-ce973baa3c8c",
   "metadata": {},
   "outputs": [],
   "source": [
    "import scipy\n",
    "import scipy.io as sio\n",
    "import scipy.fftpack\n",
    "import scipy.signal\n",
    "import pandas as pd\n",
    "import numpy as np\n",
    "import matplotlib.pyplot as plt\n",
    "import mne\n",
    "from mne.transforms import _read_fs_xfm\n",
    "import plotly.graph_objs as go\n",
    "import nibabel as nb"
   ]
  },
  {
   "cell_type": "code",
   "execution_count": 26,
   "id": "71452b9f-f9c4-490f-bd8f-d0ca1de9bd18",
   "metadata": {},
   "outputs": [],
   "source": [
    "# Load electrodes position\n",
    "elec_df = pd.read_csv('/home/mcesped/scratch/code/sEEGPrep/Results/run_all/bids/sub-090/ses-005/ieeg/sub-090_ses-005_task-full_run-01_regions_native_space.tsv', sep='\\t')"
   ]
  },
  {
   "cell_type": "code",
   "execution_count": 27,
   "id": "d8b2d800-9195-4b2d-b047-5ccdf33d0590",
   "metadata": {},
   "outputs": [
    {
     "data": {
      "text/html": [
       "<div>\n",
       "<style scoped>\n",
       "    .dataframe tbody tr th:only-of-type {\n",
       "        vertical-align: middle;\n",
       "    }\n",
       "\n",
       "    .dataframe tbody tr th {\n",
       "        vertical-align: top;\n",
       "    }\n",
       "\n",
       "    .dataframe thead th {\n",
       "        text-align: right;\n",
       "    }\n",
       "</style>\n",
       "<table border=\"1\" class=\"dataframe\">\n",
       "  <thead>\n",
       "    <tr style=\"text-align: right;\">\n",
       "      <th></th>\n",
       "      <th>type</th>\n",
       "      <th>label</th>\n",
       "      <th>x</th>\n",
       "      <th>y</th>\n",
       "      <th>z</th>\n",
       "      <th>group</th>\n",
       "      <th>Label ID</th>\n",
       "      <th>Label</th>\n",
       "      <th>R</th>\n",
       "      <th>G</th>\n",
       "      <th>B</th>\n",
       "    </tr>\n",
       "  </thead>\n",
       "  <tbody>\n",
       "    <tr>\n",
       "      <th>0</th>\n",
       "      <td>SEEGA</td>\n",
       "      <td>LAHc1-2</td>\n",
       "      <td>-22.2600</td>\n",
       "      <td>23.3750</td>\n",
       "      <td>47.0115</td>\n",
       "      <td>LAHc</td>\n",
       "      <td>17</td>\n",
       "      <td>Left-Hippocampus</td>\n",
       "      <td>220</td>\n",
       "      <td>216</td>\n",
       "      <td>20</td>\n",
       "    </tr>\n",
       "    <tr>\n",
       "      <th>1</th>\n",
       "      <td>SEEGA</td>\n",
       "      <td>LAHc2-3</td>\n",
       "      <td>-27.0905</td>\n",
       "      <td>22.3880</td>\n",
       "      <td>47.5035</td>\n",
       "      <td>LAHc</td>\n",
       "      <td>17</td>\n",
       "      <td>Left-Hippocampus</td>\n",
       "      <td>220</td>\n",
       "      <td>216</td>\n",
       "      <td>20</td>\n",
       "    </tr>\n",
       "    <tr>\n",
       "      <th>2</th>\n",
       "      <td>SEEGA</td>\n",
       "      <td>LAHc3-4</td>\n",
       "      <td>-31.9305</td>\n",
       "      <td>21.6575</td>\n",
       "      <td>47.9330</td>\n",
       "      <td>LAHc</td>\n",
       "      <td>17</td>\n",
       "      <td>Left-Hippocampus</td>\n",
       "      <td>220</td>\n",
       "      <td>216</td>\n",
       "      <td>20</td>\n",
       "    </tr>\n",
       "    <tr>\n",
       "      <th>3</th>\n",
       "      <td>SEEGA</td>\n",
       "      <td>LAHc4-5</td>\n",
       "      <td>-36.9285</td>\n",
       "      <td>21.1135</td>\n",
       "      <td>48.5630</td>\n",
       "      <td>LAHc</td>\n",
       "      <td>2</td>\n",
       "      <td>Left-Cerebral-White-Matter</td>\n",
       "      <td>245</td>\n",
       "      <td>245</td>\n",
       "      <td>245</td>\n",
       "    </tr>\n",
       "    <tr>\n",
       "      <th>4</th>\n",
       "      <td>SEEGA</td>\n",
       "      <td>LAHc5-6</td>\n",
       "      <td>-41.9405</td>\n",
       "      <td>20.3045</td>\n",
       "      <td>48.8780</td>\n",
       "      <td>LAHc</td>\n",
       "      <td>2</td>\n",
       "      <td>Left-Cerebral-White-Matter</td>\n",
       "      <td>245</td>\n",
       "      <td>245</td>\n",
       "      <td>245</td>\n",
       "    </tr>\n",
       "  </tbody>\n",
       "</table>\n",
       "</div>"
      ],
      "text/plain": [
       "    type    label        x        y        z group  Label ID  \\\n",
       "0  SEEGA  LAHc1-2 -22.2600  23.3750  47.0115  LAHc        17   \n",
       "1  SEEGA  LAHc2-3 -27.0905  22.3880  47.5035  LAHc        17   \n",
       "2  SEEGA  LAHc3-4 -31.9305  21.6575  47.9330  LAHc        17   \n",
       "3  SEEGA  LAHc4-5 -36.9285  21.1135  48.5630  LAHc         2   \n",
       "4  SEEGA  LAHc5-6 -41.9405  20.3045  48.8780  LAHc         2   \n",
       "\n",
       "                        Label    R    G    B  \n",
       "0            Left-Hippocampus  220  216   20  \n",
       "1            Left-Hippocampus  220  216   20  \n",
       "2            Left-Hippocampus  220  216   20  \n",
       "3  Left-Cerebral-White-Matter  245  245  245  \n",
       "4  Left-Cerebral-White-Matter  245  245  245  "
      ]
     },
     "execution_count": 27,
     "metadata": {},
     "output_type": "execute_result"
    }
   ],
   "source": [
    "elec_df.head()"
   ]
  },
  {
   "cell_type": "code",
   "execution_count": 28,
   "id": "614d4638-729d-429d-b8f3-f0ab3ace1733",
   "metadata": {},
   "outputs": [
    {
     "data": {
      "text/plain": [
       "array([[-22.26  ,  23.375 ,  47.0115],\n",
       "       [-27.0905,  22.388 ,  47.5035],\n",
       "       [-31.9305,  21.6575,  47.933 ],\n",
       "       [-36.9285,  21.1135,  48.563 ],\n",
       "       [-41.9405,  20.3045,  48.878 ],\n",
       "       [-46.9095,  19.6385,  49.279 ],\n",
       "       [-51.8355,  19.295 ,  49.9665],\n",
       "       [-56.704 ,  18.9515,  50.6255],\n",
       "       [-61.5155,  18.5505,  51.3415],\n",
       "       [-19.0425,  31.3875,  44.5425]])"
      ]
     },
     "execution_count": 28,
     "metadata": {},
     "output_type": "execute_result"
    }
   ],
   "source": [
    "coordinates_contrast = elec_df[['x','y','z']].to_numpy()\n",
    "coordinates_contrast[0:10,:]"
   ]
  },
  {
   "cell_type": "code",
   "execution_count": 11,
   "id": "4d54b273-3c6c-4dc8-bb4a-95437d1f57cb",
   "metadata": {},
   "outputs": [],
   "source": [
    "def readRegMatrix(trsfPath):\n",
    "\twith open(trsfPath) as (f):\n",
    "\t\treturn np.loadtxt(f.readlines())"
   ]
  },
  {
   "cell_type": "code",
   "execution_count": 30,
   "id": "d99358e8-82be-4614-ad7b-7d196548832a",
   "metadata": {},
   "outputs": [],
   "source": [
    "# Transform to non-contrast space\n",
    "t1_transform=readRegMatrix('/home/mcesped/projects/ctb-akhanf/cfmm-bids/Khan/clinical_imaging/epi_iEEG/derivatives/atlasreg/sub-P090/sub-P090_acq-noncontrast_desc-rigid_from-noncontrast_to-contrast_type-ras_xfm.txt')"
   ]
  },
  {
   "cell_type": "code",
   "execution_count": 31,
   "id": "cb0a17cd-1d5f-4ea8-96ec-1430ae864ae3",
   "metadata": {},
   "outputs": [
    {
     "data": {
      "text/plain": [
       "array([[-23.76558978,  44.68103676, -11.85390924],\n",
       "       [-28.50219986,  43.42016759, -11.42543681],\n",
       "       [-33.26468098,  42.41753181, -11.04493166],\n",
       "       [-38.19504328,  41.58154553, -10.45380609],\n",
       "       [-43.12404073,  40.49795488, -10.19239605],\n",
       "       [-48.0189211 ,  39.55434419,  -9.8369173 ],\n",
       "       [-52.89009135,  38.91862865,  -9.17690519],\n",
       "       [-57.70424055,  38.28744373,  -8.54528068],\n",
       "       [-62.45786358,  37.59891641,  -7.85986867],\n",
       "       [-21.08328839,  52.95864647, -13.86315137]])"
      ]
     },
     "execution_count": 31,
     "metadata": {},
     "output_type": "execute_result"
    }
   ],
   "source": [
    "# Transform from contrast mri ras to non-contrast MRI ras\n",
    "coordinates_non_contr = mne.transforms.apply_trans(t1_transform, coordinates_contrast)\n",
    "coordinates_non_contr[0:10,:]"
   ]
  },
  {
   "cell_type": "code",
   "execution_count": 32,
   "id": "5a6c44f2-9772-4174-a672-9b84d31f7cb0",
   "metadata": {},
   "outputs": [],
   "source": [
    "# # Transform to MNI\n",
    "# subjects_dir = '/home/mcesped/projects/ctb-akhanf/cfmm-bids/Khan/clinical_imaging/epi_iEEG/derivatives/fastsurfer'\n",
    "# mri_mni_trans = mne.read_talxfm('P079', subjects_dir)"
   ]
  },
  {
   "cell_type": "code",
   "execution_count": 57,
   "id": "dee7a8dc-a004-41a8-9ada-5e6439df53f2",
   "metadata": {},
   "outputs": [
    {
     "data": {
      "text/plain": [
       "array([[220, 216,  20],\n",
       "       [220, 216,  20],\n",
       "       [220, 216,  20],\n",
       "       [245, 245, 245],\n",
       "       [245, 245, 245],\n",
       "       [140, 220, 220],\n",
       "       [160, 100,  50],\n",
       "       [160, 100,  50],\n",
       "       [245, 245, 245],\n",
       "       [103, 255, 255]])"
      ]
     },
     "execution_count": 57,
     "metadata": {},
     "output_type": "execute_result"
    }
   ],
   "source": [
    "colors = elec_df[['R','G','B']].to_numpy()\n",
    "colors[0:10,:]"
   ]
  },
  {
   "cell_type": "code",
   "execution_count": 45,
   "id": "f8a816bf-f670-4590-8865-beb2b34bd9d1",
   "metadata": {},
   "outputs": [
    {
     "data": {
      "text/plain": [
       "['Left-Hippocampus',\n",
       " 'Left-Hippocampus',\n",
       " 'Left-Hippocampus',\n",
       " 'Left-Cerebral-White-Matter',\n",
       " 'Left-Cerebral-White-Matter',\n",
       " 'ctx-lh-superiortemporal',\n",
       " 'ctx-lh-middletemporal',\n",
       " 'ctx-lh-middletemporal',\n",
       " 'Left-Cerebral-White-Matter',\n",
       " 'Left-Amygdala']"
      ]
     },
     "execution_count": 45,
     "metadata": {},
     "output_type": "execute_result"
    }
   ],
   "source": [
    "labels = elec_df['Label'].tolist()\n",
    "labels[0:10]"
   ]
  },
  {
   "cell_type": "code",
   "execution_count": 37,
   "id": "a073bf4e-41cb-4cf5-8b15-2ac2808e57ea",
   "metadata": {},
   "outputs": [],
   "source": [
    "# Transform from RAS to MNI space\n",
    "# MNI_transform = _read_fs_xfm('/home/mcesped/projects/ctb-akhanf/cfmm-bids/Khan/clinical_imaging/epi_iEEG/derivatives/fastsurfer/sub-P090/mri/transforms/talairach.xfm')\n",
    "MNI_transform=readRegMatrix('/home/mcesped/projects/ctb-akhanf/cfmm-bids/Khan/clinical_imaging/epi_iEEG/derivatives/atlasreg/sub-P090/sub-P090_desc-affine_from-subject_to-MNI152NLin2009cSym_type-ras_xfm.txt')"
   ]
  },
  {
   "cell_type": "code",
   "execution_count": 38,
   "id": "7cc585c3-cc5b-4f66-a462-9390d40ff94f",
   "metadata": {},
   "outputs": [
    {
     "data": {
      "text/plain": [
       "array([[ 9.204804e-01,  7.110123e-02, -1.582734e-02, -3.150426e+00],\n",
       "       [-6.151614e-02,  9.292214e-01, -1.319229e-01,  3.201959e+01],\n",
       "       [ 1.048091e-02,  1.247004e-01,  8.477862e-01,  6.228736e+01],\n",
       "       [ 0.000000e+00,  0.000000e+00,  0.000000e+00,  1.000000e+00]])"
      ]
     },
     "execution_count": 38,
     "metadata": {},
     "output_type": "execute_result"
    }
   ],
   "source": [
    "MNI_transform"
   ]
  },
  {
   "cell_type": "code",
   "execution_count": 23,
   "id": "4f267dbb-7c10-4052-b1cd-108f09d3a8f8",
   "metadata": {},
   "outputs": [
    {
     "data": {
      "text/plain": [
       "array([[-20.10290567,  -6.89039594, -26.95168436],\n",
       "       [-24.63279631,  -8.78470821, -25.42142947],\n",
       "       [-28.96339742, -10.51614727, -24.05333921],\n",
       "       [-33.24619462, -12.26733769, -22.50565149],\n",
       "       [-37.55514396, -14.14406506, -21.09610578],\n",
       "       [-41.83645534, -16.25398905, -20.00159364],\n",
       "       [-46.23776576, -18.46496461, -18.94899813],\n",
       "       [-50.72939659, -20.57074025, -17.85021204],\n",
       "       [-55.17555381, -22.57345789, -16.67564897],\n",
       "       [-34.37667308,  16.86749459, -20.64702814]])"
      ]
     },
     "execution_count": 23,
     "metadata": {},
     "output_type": "execute_result"
    }
   ],
   "source": [
    "# using FS transform\n",
    "coordinates_MNI = mne.transforms.apply_trans(MNI_transform[0], coordinates_non_contr)\n",
    "coordinates_MNI[0:10,:]"
   ]
  },
  {
   "cell_type": "code",
   "execution_count": 39,
   "id": "cef03b75-6b4d-4bb0-ac42-bcd4a69fab00",
   "metadata": {},
   "outputs": [
    {
     "data": {
      "text/plain": [
       "array([[-20.03824423, -12.88352095, -15.87577239],\n",
       "       [-25.17255969, -14.16738867, -15.04312011],\n",
       "       [-30.33904662, -15.19314846, -14.32175647],\n",
       "       [-35.69045298, -16.00109256, -13.39364681],\n",
       "       [-41.03707608, -17.13975744, -12.78850669],\n",
       "       [-46.34857521, -18.11135356, -12.10693418],\n",
       "       [-51.63853093, -18.69462796, -11.14480705],\n",
       "       [-56.86654944, -19.27866739, -10.21695007],\n",
       "       [-62.02774894, -19.90975258,  -9.21576529],\n",
       "       [-17.24898864,  -4.66601644, -20.03125409]])"
      ]
     },
     "execution_count": 39,
     "metadata": {},
     "output_type": "execute_result"
    }
   ],
   "source": [
    "# it has to be the inverted version bc the txt files have actually the inv transform (based on its name, like the non_contrast to contrast case)\n",
    "coordinates_MNI = mne.transforms.apply_trans(np.linalg.inv(MNI_transform), coordinates_contrast) \n",
    "coordinates_MNI[0:10,:]"
   ]
  },
  {
   "cell_type": "code",
   "execution_count": 49,
   "id": "8fa194cc-0470-42d5-bde8-8a8bcca4d7f4",
   "metadata": {},
   "outputs": [],
   "source": [
    "from nilearn import plotting  \n",
    "view = plotting.view_markers( \n",
    "      coordinates_MNI, colors, marker_size=10, marker_labels=labels) \n",
    "view.save_as_html(\"surface_plot.html\")"
   ]
  },
  {
   "cell_type": "markdown",
   "id": "83332196-96c8-4022-9c3d-5b37d781c1e0",
   "metadata": {},
   "source": [
    "## Greydon's code"
   ]
  },
  {
   "cell_type": "code",
   "execution_count": 59,
   "id": "09b634c7-9835-473d-b3b7-df4960a8e782",
   "metadata": {},
   "outputs": [],
   "source": [
    "AXIS_CONFIG = {\n",
    "    \"showgrid\": False,\n",
    "    \"showline\": False,\n",
    "    \"ticks\": \"\",\n",
    "    \"title\": \"\",\n",
    "    \"showticklabels\": False,\n",
    "    \"zeroline\": False,\n",
    "    \"showspikes\": False,\n",
    "    \"spikesides\": False,\n",
    "    \"showbackground\": False,\n",
    "}\n",
    "\n",
    "LAYOUT = {\n",
    "\t\"scene\": {f\"{dim}axis\": AXIS_CONFIG for dim in (\"x\", \"y\", \"z\")},\n",
    "\t\"paper_bgcolor\": \"#fff\",\n",
    "\t\"hovermode\": False,\n",
    "\t\"showlegend\":True,\n",
    "\t\"legend\":{\n",
    "\t\t\"itemsizing\": \"constant\",\n",
    "\t\t\"groupclick\":\"togglegroup\",\n",
    "\t\t\"yanchor\":\"top\",\n",
    "\t\t\"y\":0.8,\n",
    "\t\t\"xanchor\":\"left\",\n",
    "\t\t\"x\":0.05,\n",
    "\t\t\"title_font_family\":\"Times New Roman\",\n",
    "\t\t\"font\":{\n",
    "\t\t\t\"size\":20\n",
    "\t\t},\n",
    "\t\t\"bordercolor\":\"Black\",\n",
    "\t\t\"borderwidth\":1\n",
    "\t},\n",
    "\t\"margin\": {\"l\": 0, \"r\": 0, \"b\": 0, \"t\": 0, \"pad\": 0},\n",
    "}\n",
    "\n",
    "CAMERAS = {\n",
    "    \"left\": {\n",
    "        \"eye\": {\"x\": -1.5, \"y\": 0, \"z\": 0},\n",
    "        \"up\": {\"x\": 0, \"y\": 0, \"z\": 1},\n",
    "        \"center\": {\"x\": 0, \"y\": 0, \"z\": 0},\n",
    "    },\n",
    "    \"right\": {\n",
    "        \"eye\": {\"x\": 1.5, \"y\": 0, \"z\": 0},\n",
    "        \"up\": {\"x\": 0, \"y\": 0, \"z\": 1},\n",
    "        \"center\": {\"x\": 0, \"y\": 0, \"z\": 0},\n",
    "    },\n",
    "    \"dorsal\": {\n",
    "        \"eye\": {\"x\": 0, \"y\": 0, \"z\": 1.5},\n",
    "        \"up\": {\"x\": 0, \"y\": 1, \"z\": 0},\n",
    "        \"center\": {\"x\": 0, \"y\": 0, \"z\": 0},\n",
    "    },\n",
    "    \"ventral\": {\n",
    "        \"eye\": {\"x\": 0, \"y\": 0, \"z\": -1.5},\n",
    "        \"up\": {\"x\": 0, \"y\": 1, \"z\": 0},\n",
    "        \"center\": {\"x\": 0, \"y\": 0, \"z\": 0},\n",
    "    },\n",
    "    \"anterior\": {\n",
    "        \"eye\": {\"x\": 0, \"y\": 1.5, \"z\": 0},\n",
    "        \"up\": {\"x\": 0, \"y\": 0, \"z\": 1},\n",
    "        \"center\": {\"x\": 0, \"y\": 0, \"z\": 0},\n",
    "    },\n",
    "    \"posterior\": {\n",
    "        \"eye\": {\"x\": 0, \"y\": -1.5, \"z\": 0},\n",
    "        \"up\": {\"x\": 0, \"y\": 0, \"z\": 1},\n",
    "        \"center\": {\"x\": 0, \"y\": 0, \"z\": 0},\n",
    "    },\n",
    "}\n"
   ]
  },
  {
   "cell_type": "code",
   "execution_count": 53,
   "id": "2185e99f-be58-4de0-95f3-abd46709b0b8",
   "metadata": {},
   "outputs": [],
   "source": [
    "t1_obj = nb.load('/home/mcesped/projects/ctb-akhanf/cfmm-bids/Khan/clinical_imaging/epi_iEEG/derivatives/fastsurfer/sub-P090/mri/T1.mgz')\n",
    "Torig = t1_obj.header.get_vox2ras_tkr()\n",
    "#fs_transform=(t1_obj.affine-Torig)+np.eye(4)\n",
    "fs_transform=np.dot(t1_obj.affine, np.linalg.inv(Torig))\n",
    "\n",
    "lh_pial = '/home/mcesped/projects/ctb-akhanf/cfmm-bids/Khan/clinical_imaging/epi_iEEG/derivatives/fastsurfer/sub-P090/surf/lh.pial.T1'\n",
    "rh_pial = '/home/mcesped/projects/ctb-akhanf/cfmm-bids/Khan/clinical_imaging/epi_iEEG/derivatives/fastsurfer/sub-P090/surf/rh.pial.T1'\n",
    "verl,facel=nb.freesurfer.read_geometry(lh_pial)\n",
    "verr,facer=nb.freesurfer.read_geometry(rh_pial)\n",
    "\n",
    "all_ver = np.concatenate([verl, verr], axis=0)\n",
    "all_face = np.concatenate([facel, facer+verl.shape[0]], axis=0)\n",
    "surf_mesh = [all_ver, all_face]\n",
    "\n",
    "all_ver_shift=(mne.transforms.apply_trans(fs_transform, all_ver))\n",
    "\n",
    "\n",
    "all_ver_shift=(mne.transforms.apply_trans(np.linalg.inv(t1_transform), all_ver_shift))\n",
    "\n",
    "lh_sulc = '/home/mcesped/projects/ctb-akhanf/cfmm-bids/Khan/clinical_imaging/epi_iEEG/derivatives/fastsurfer/sub-P090/surf/lh.sulc'\n",
    "rh_sulc = '/home/mcesped/projects/ctb-akhanf/cfmm-bids/Khan/clinical_imaging/epi_iEEG/derivatives/fastsurfer/sub-P090/surf/rh.sulc'\n",
    "lh_sulc_data = nb.freesurfer.read_morph_data(lh_sulc)\n",
    "rh_sulc_data = nb.freesurfer.read_morph_data(rh_sulc)\n",
    "bg_map = np.concatenate((lh_sulc_data, rh_sulc_data))"
   ]
  },
  {
   "cell_type": "code",
   "execution_count": 56,
   "id": "3ca1fb09-bf8f-4f08-83c9-d101b409531b",
   "metadata": {},
   "outputs": [],
   "source": [
    "groups = elec_df['Label'].unique().tolist()\n",
    "df = elec_df"
   ]
  },
  {
   "cell_type": "code",
   "execution_count": 64,
   "id": "3bc1d224-baf0-45c9-9f0b-88161103b3cb",
   "metadata": {},
   "outputs": [],
   "source": [
    "mesh_3d = go.Mesh3d(x=all_ver_shift[:,0], y=all_ver_shift[:,1], z=all_ver_shift[:,2], i=all_face[:,0], j=all_face[:,1], k=all_face[:,2],opacity=.1,color='grey',alphahull=-10)\n",
    "data=[mesh_3d]\n",
    "for igroup in groups:\n",
    "\tidx = [i for i,x in enumerate(df['Label'].tolist()) if igroup in x]\n",
    "\tdata.append(go.Scatter3d(\n",
    "\t\tx = df['x'][idx].values,\n",
    "\t\ty = df['y'][idx].values,\n",
    "\t\tz = df['z'][idx].values,\n",
    "\t\tname=igroup,\n",
    "\t\tmode = \"markers\",#\"markers+text\",\n",
    "\t\t# text=df['label'][idx].tolist(),\n",
    "\t\t# textfont=dict(\n",
    "\t\t# \tfamily=\"sans serif\",\n",
    "\t\t# \tsize=16,\n",
    "\t\t# \tcolor=\"black\"\n",
    "\t\t# ),\n",
    "\t\t# textposition = \"middle left\",\n",
    "\t\tmarker=dict(\n",
    "\t\t\tsize=10,\n",
    "\t\t\tline=dict(\n",
    "\t\t\t\twidth=1,\n",
    "\t\t\t),\n",
    "\t\t\tcolor=['rgb({},{},{})'.format(int(r),int(g),int(b)) for r,g,b in colors[idx]],\n",
    "\t\t\topacity=1\n",
    "\t\t\t)))\n",
    "\n",
    "fig = go.Figure(data=data)\n",
    "fig.update_layout(scene_camera=CAMERAS['left'],\n",
    "\t\t\t\t  legend_title_text=\"Electrodes\",\n",
    "\t\t\t\t  **LAYOUT)\n",
    "\n",
    "value=[np.round(x,2) for x in np.arange(.05,.6-.05,.05)]\n",
    "steps = []\n",
    "for i in range(len(value)):\n",
    "\tstep = dict(\n",
    "\t\tlabel = str(f\"{value[i]:.2f}\"),\n",
    "\t\tmethod=\"restyle\",\n",
    "\t\targs=[{'opacity': [value[i]]+(len(data)-1)*[1],\n",
    "\t\t\t 'alphahull': [-10]+(len(data)-1)*[1]\n",
    "\t\t }]\n",
    "\t)\n",
    "\tsteps.append(step)\n",
    "\n",
    "sliders = [dict(\n",
    "\tcurrentvalue={\"visible\": True,\"prefix\": \"Opacity: \",\"font\":{\"size\":16}},\n",
    "\tactive=0,\n",
    "\tsteps=steps,\n",
    "\tx=.35,y=.1,len=.3,\n",
    "\tpad={\"t\": 8},\n",
    ")]\n",
    "\n",
    "fig.update_layout(sliders=sliders)\n",
    "fig.write_html('dummy2.html')"
   ]
  }
 ],
 "metadata": {
  "kernelspec": {
   "display_name": "Python 3 (ipykernel)",
   "language": "python",
   "name": "python3"
  },
  "language_info": {
   "codemirror_mode": {
    "name": "ipython",
    "version": 3
   },
   "file_extension": ".py",
   "mimetype": "text/x-python",
   "name": "python",
   "nbconvert_exporter": "python",
   "pygments_lexer": "ipython3",
   "version": "3.8.10"
  }
 },
 "nbformat": 4,
 "nbformat_minor": 5
}
