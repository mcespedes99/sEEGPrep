{
 "cells": [
  {
   "cell_type": "code",
   "execution_count": 1,
   "id": "c89ccc48-6ba0-4465-a92b-acc5b0583478",
   "metadata": {},
   "outputs": [],
   "source": [
    "import mne\n",
    "import nibabel as nb\n",
    "import numpy as np\n",
    "import pandas as pd\n",
    "import matplotlib.pyplot as plt"
   ]
  },
  {
   "cell_type": "code",
   "execution_count": 2,
   "id": "03e2dc41-b7cc-4fa4-881a-29523bd55ec0",
   "metadata": {},
   "outputs": [],
   "source": [
    "def readRegMatrix(trsfPath):\n",
    "\twith open(trsfPath) as (f):\n",
    "\t\treturn np.loadtxt(f.readlines())"
   ]
  },
  {
   "cell_type": "code",
   "execution_count": 3,
   "id": "30ad4460-81ef-4027-b278-7d280a2a52ab",
   "metadata": {},
   "outputs": [],
   "source": [
    "def imshow_mri(data, img, vox, suptitle, cmap='gray', vmin=None, vmax=None):\n",
    "    \"\"\"Show an MRI slice with a voxel annotated.\"\"\"\n",
    "    i, j, k = vox\n",
    "    fig, ax = plt.subplots()\n",
    "    codes = nb.orientations.aff2axcodes(img.affine)\n",
    "    # Figure out the title based on the code of this axis\n",
    "    ori_slice = dict(P='Coronal', A='Coronal',\n",
    "                     I='Axial', S='Axial',\n",
    "                     L='Sagittal', R='Saggital')\n",
    "    ori_names = dict(P='posterior', A='anterior',\n",
    "                     I='inferior', S='superior',\n",
    "                     L='left', R='right')\n",
    "    title = ori_slice[codes[0]]\n",
    "    scale = np.max(data.shape[2]/data.shape[1])\n",
    "    ax.imshow(data[i], cmap=cmap, origin='lower', aspect=scale*0.8, vmin=vmin, vmax=vmax)\n",
    "    # reorient view so that RAS is always rightward and upward\n",
    "    x_order = -1 if codes[2] in 'LIP' else 1\n",
    "    y_order = -1 if codes[1] in 'LIP' else 1\n",
    "    ax.set(xlim=[0, data.shape[2] - 1][::x_order],\n",
    "           ylim=[0, data.shape[1] - 1][::y_order],\n",
    "           xlabel=f'k ({ori_names[codes[2]]}+)',\n",
    "           ylabel=f'j ({ori_names[codes[1]]}+)',\n",
    "           title=f'{title} view: i={i} ({ori_names[codes[0]]}+)')\n",
    "    fig.suptitle(suptitle)\n",
    "    fig.subplots_adjust(0.1, 0.1, 0.95, 0.85)\n",
    "    return fig"
   ]
  },
  {
   "cell_type": "code",
   "execution_count": null,
   "id": "a8621fac-61d4-4c04-a56f-51d4f1f52b30",
   "metadata": {},
   "outputs": [],
   "source": []
  }
 ],
 "metadata": {
  "kernelspec": {
   "display_name": "Python 3 (ipykernel)",
   "language": "python",
   "name": "python3"
  },
  "language_info": {
   "codemirror_mode": {
    "name": "ipython",
    "version": 3
   },
   "file_extension": ".py",
   "mimetype": "text/x-python",
   "name": "python",
   "nbconvert_exporter": "python",
   "pygments_lexer": "ipython3",
   "version": "3.8.10"
  }
 },
 "nbformat": 4,
 "nbformat_minor": 5
}
